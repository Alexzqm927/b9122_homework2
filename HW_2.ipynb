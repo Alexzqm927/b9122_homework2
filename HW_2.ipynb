{
 "cells": [
  {
   "cell_type": "code",
   "execution_count": 3,
   "id": "ca32ec8d",
   "metadata": {},
   "outputs": [],
   "source": [
    "from bs4 import BeautifulSoup\n",
    "import urllib.request\n",
    "import requests\n",
    "from urllib.request import Request\n",
    "import re"
   ]
  },
  {
   "cell_type": "code",
   "execution_count": 5,
   "id": "a9ef9701",
   "metadata": {},
   "outputs": [],
   "source": [
    "# Question 1\n",
    "from bs4 import BeautifulSoup\n",
    "import urllib.request\n",
    "#from urllib.request import Request\n",
    "\n",
    "seed_url = \"https://press.un.org/en\"\n",
    "relative_url = \"/en/press-release\"\n",
    "\n",
    "urls = [seed_url]    \n",
    "seen = [seed_url] \n",
    "target = []\n",
    "maxNumUrl = 10; #set the maximum number of urls to visit\n",
    "\n",
    "while len(urls) > 0 and len(target) < maxNumUrl:\n",
    "    curr_url= urls.pop(0)\n",
    "    req = urllib.request.Request(curr_url,headers={'User-Agent': 'Mozilla/5.0'})\n",
    "    webpage = urllib.request.urlopen(req).read()\n",
    "    #if curr_url not in seen:\n",
    "    #   seen.append(curr_url)\n",
    "    soup = BeautifulSoup(webpage)  #creates object soup\n",
    "    \n",
    "    for tag in soup.find_all('a', href = True): #find tags with links\n",
    "        childUrl = tag['href'] #extract just the link\n",
    "        childUrl = urllib.parse.urljoin(seed_url, childUrl)\n",
    "        if seed_url in childUrl and childUrl not in seen:\n",
    "            urls.append(childUrl)\n",
    "            seen.append(childUrl)\n",
    "    # check if the url is press-release        \n",
    "    path_r = soup.find('a', hreflang='en', href=relative_url)        \n",
    "    if path_r != None and \"crisis\" in soup.get_text().lower():\n",
    "        target.append(curr_url)"
   ]
  },
  {
   "cell_type": "code",
   "execution_count": 6,
   "id": "ea475a98",
   "metadata": {},
   "outputs": [
    {
     "data": {
      "text/plain": [
       "['https://press.un.org/en/2023/sgsm21980.doc.htm',\n",
       " 'https://press.un.org/en/2023/sgsm21978.doc.htm',\n",
       " 'https://press.un.org/en/2023/sgsm21947.doc.htm',\n",
       " 'https://press.un.org/en/2023/dsgsm1874.doc.htm',\n",
       " 'https://press.un.org/en/2023/sgsm21952.doc.htm',\n",
       " 'https://press.un.org/en/2023/sgsm21876.doc.htm',\n",
       " 'https://press.un.org/en/2023/sgsm21852.doc.htm',\n",
       " 'https://press.un.org/en/2023/sgsm21806.doc.htm',\n",
       " 'https://press.un.org/en/2023/dsgsm1848.doc.htm',\n",
       " 'https://press.un.org/en/2023/sgsm21765.doc.htm']"
      ]
     },
     "execution_count": 6,
     "metadata": {},
     "output_type": "execute_result"
    }
   ],
   "source": [
    "#Question 1\n",
    "target"
   ]
  },
  {
   "cell_type": "code",
   "execution_count": 19,
   "id": "18c9e33c",
   "metadata": {},
   "outputs": [],
   "source": [
    "for i in range(len(target)):\n",
    "    r = requests.get(target[i])\n",
    "    with open(f'1-{i+1}.txt', 'w') as file:\n",
    "        file.write(r.text)"
   ]
  },
  {
   "cell_type": "code",
   "execution_count": 7,
   "id": "95fc0305",
   "metadata": {},
   "outputs": [],
   "source": [
    "#Question 1 part two\n",
    "seed_url_2 = \"https://www.europarl.europa.eu/news/en/press-room\"\n",
    "\n",
    "urls_2 = [seed_url_2]    \n",
    "seen_2 = [seed_url_2] \n",
    "target_2 = []\n",
    "maxNumUrl_2 = 10; \n",
    "\n",
    "\n",
    "while len(urls_2) > 0 and len(target_2) < maxNumUrl_2:\n",
    "    try: \n",
    "        curr_url_2= urls_2.pop(0)\n",
    "        req_2 = urllib.request.Request(curr_url_2,headers={'User-Agent': 'Mozilla/5.0'})\n",
    "        webpage_2 = urllib.request.urlopen(req_2).read()\n",
    "    \n",
    "    except Exception as ex:\n",
    "        continue\n",
    "        \n",
    "    soup = BeautifulSoup(webpage_2)  #creates object soup\n",
    "    \n",
    "    for tag in soup.find_all('a', href= True ): #find tags with links\n",
    "        childUrl_2 = tag['href'] #extract just the link\n",
    "        # only add the url has article \n",
    "        if seed_url_2 in childUrl_2 and childUrl_2 not in seen_2 and \"?\" not in childUrl_2:\n",
    "            urls_2.append(childUrl_2)\n",
    "            seen_2.append(childUrl_2)\n",
    "    # check if the link is press room       \n",
    "    pattern_find = soup.find('span', class_ = 'ep_name', text = \"Press room\")\n",
    "    pattern_find_2 = soup.find('span', class_=\"ep_name\", text='Plenary session')    \n",
    "    if pattern_find and pattern_find_2 and \"crisis\" in soup.get_text().lower():\n",
    "        target_2.append(curr_url_2)"
   ]
  },
  {
   "cell_type": "code",
   "execution_count": 8,
   "id": "23846869",
   "metadata": {},
   "outputs": [
    {
     "data": {
      "text/plain": [
       "['https://www.europarl.europa.eu/news/en/press-room/20230929IPR06132/nagorno-karabakh-meps-demand-review-of-eu-relations-with-azerbaijan',\n",
       " 'https://www.europarl.europa.eu/news/en/press-room/20221209IPR64426/eu-long-term-budget-needs-urgent-revision-to-cope-with-current-crises',\n",
       " 'https://www.europarl.europa.eu/news/en/press-room/20210304IPR99207/parliament-gives-green-light-for-new-eu4health-programme',\n",
       " 'https://www.europarl.europa.eu/news/en/press-room/20220909IPR40138/parliament-adopts-new-rules-on-adequate-minimum-wages-for-all-workers-in-the-eu',\n",
       " 'https://www.europarl.europa.eu/news/en/press-room/20230310IPR77232/minimum-income-schemes-increasing-support-accessibility-and-inclusion',\n",
       " 'https://www.europarl.europa.eu/news/en/press-room/20230210IPR74806/green-deal-industrial-plan-securing-the-eu-s-clean-tech-leadership',\n",
       " 'https://www.europarl.europa.eu/news/en/press-room/20230707IPR02421/parliament-adopts-new-rules-to-boost-energy-savings',\n",
       " 'https://www.europarl.europa.eu/news/en/press-room/20220321IPR25913/more-eu-action-needed-for-secure-food-supply',\n",
       " 'https://www.europarl.europa.eu/news/en/press-room/20221209IPR64427/holodomor-parliament-recognises-soviet-starvation-of-ukrainians-as-genocide',\n",
       " 'https://www.europarl.europa.eu/news/en/press-room/20210422IPR02615/civil-protection-faster-eu-response-to-large-scale-emergencies']"
      ]
     },
     "execution_count": 8,
     "metadata": {},
     "output_type": "execute_result"
    }
   ],
   "source": [
    "target_2"
   ]
  },
  {
   "cell_type": "code",
   "execution_count": 20,
   "id": "6ecaf30b",
   "metadata": {},
   "outputs": [],
   "source": [
    "for i in range(len(target_2)):\n",
    "    r_2 = requests.get(target_2[i])\n",
    "    with open(f'2-{i+1}.txt', 'w') as file_2:\n",
    "        file_2.write(r_2.text)"
   ]
  },
  {
   "cell_type": "code",
   "execution_count": null,
   "id": "fbaa3782",
   "metadata": {},
   "outputs": [],
   "source": []
  }
 ],
 "metadata": {
  "kernelspec": {
   "display_name": "Python 3",
   "language": "python",
   "name": "python3"
  },
  "language_info": {
   "codemirror_mode": {
    "name": "ipython",
    "version": 3
   },
   "file_extension": ".py",
   "mimetype": "text/x-python",
   "name": "python",
   "nbconvert_exporter": "python",
   "pygments_lexer": "ipython3",
   "version": "3.8.8"
  }
 },
 "nbformat": 4,
 "nbformat_minor": 5
}
